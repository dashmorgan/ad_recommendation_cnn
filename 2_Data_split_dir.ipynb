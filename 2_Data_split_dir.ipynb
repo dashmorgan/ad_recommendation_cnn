{
 "cells": [
  {
   "cell_type": "code",
   "execution_count": null,
   "metadata": {},
   "outputs": [],
   "source": [
    "import pandas as pd\n",
    "import numpy as np"
   ]
  },
  {
   "cell_type": "code",
   "execution_count": null,
   "metadata": {},
   "outputs": [],
   "source": [
    "import os, shutil"
   ]
  },
  {
   "cell_type": "code",
   "execution_count": null,
   "metadata": {},
   "outputs": [],
   "source": [
    "import random, os\n",
    "from glob import glob\n",
    "from random import shuffle"
   ]
  },
  {
   "cell_type": "code",
   "execution_count": null,
   "metadata": {},
   "outputs": [],
   "source": [
    "# to where photos wwill be separated for train and val\n",
    "base_dir = '/Users/.../..'"
   ]
  },
  {
   "cell_type": "code",
   "execution_count": null,
   "metadata": {},
   "outputs": [],
   "source": [
    "# directory with folders of clothing by category\n",
    "all_folders = '/Users/.../all_clothing'"
   ]
  },
  {
   "cell_type": "code",
   "execution_count": null,
   "metadata": {},
   "outputs": [],
   "source": [
    "# Directories for our training,\n",
    "# validation splits\n",
    "train_dir = os.path.join(base_dir, 'train')\n",
    "os.mkdir(train_dir)\n",
    "validation_dir = os.path.join(base_dir, 'validation')\n",
    "os.mkdir(validation_dir)"
   ]
  },
  {
   "cell_type": "code",
   "execution_count": null,
   "metadata": {},
   "outputs": [],
   "source": [
    "list_folders = list(os.listdir(all_folders))"
   ]
  },
  {
   "cell_type": "code",
   "execution_count": null,
   "metadata": {},
   "outputs": [],
   "source": [
    "list_folders"
   ]
  },
  {
   "cell_type": "code",
   "execution_count": null,
   "metadata": {},
   "outputs": [],
   "source": [
    "img_transfer_two(all_folders, 'tops', 'tops')"
   ]
  },
  {
   "cell_type": "code",
   "execution_count": null,
   "metadata": {},
   "outputs": [],
   "source": [
    "img_transfer_two(all_folders, 'skirts', 'skirts')"
   ]
  },
  {
   "cell_type": "code",
   "execution_count": null,
   "metadata": {},
   "outputs": [],
   "source": [
    "img_transfer_two(all_folders, 'dresses', 'dresses')"
   ]
  },
  {
   "cell_type": "code",
   "execution_count": null,
   "metadata": {},
   "outputs": [],
   "source": [
    "img_transfer_two(all_folders, 'denim', 'denim')"
   ]
  },
  {
   "cell_type": "code",
   "execution_count": null,
   "metadata": {},
   "outputs": [],
   "source": [
    "img_transfer_two(all_folders, 'shorts', 'shorts')"
   ]
  },
  {
   "cell_type": "code",
   "execution_count": null,
   "metadata": {},
   "outputs": [],
   "source": [
    "def img_transfer_two(path_all_folders, folder_name, category):\n",
    "    path_ = path_all_folders + '/' + folder_name\n",
    "    \n",
    "    #defining the number for train/test/val\n",
    "    imgs = len(os.listdir(path_))\n",
    "    #num for test val split\n",
    "    num_for_val = int(0.2 * imgs)\n",
    "    \n",
    "    \n",
    "    #num_val = num_for_test_val - num_test\n",
    "    num_train = imgs - num_for_val\n",
    "    #list images\n",
    "    list_imgs = list(os.listdir(path_))\n",
    "    #shuffling img in list/folder\n",
    "    random.shuffle(list_imgs)\n",
    "    #creating lists with split\n",
    "    lis_train = list_imgs[:num_train]\n",
    "    \n",
    "    lis_val = list_imgs[-num_for_val:]\n",
    "    #path to directories\n",
    "    train_path = '/Users/.../train' # path to train folder\n",
    "    validation_path = '/Users/.../validation' # path to val folder\n",
    "    #transferring imgs\n",
    "    #train\n",
    "    train_path = os.path.join(train_path, category)\n",
    "    os.mkdir(train_path)\n",
    "    for fname in lis_train:\n",
    "        src = os.path.join(path_, fname)\n",
    "        dst = os.path.join(train_path, fname)\n",
    "        shutil.copyfile(src, dst)\n",
    "    \n",
    "    #val\n",
    "    validation_path = os.path.join(validation_path, category)\n",
    "    os.mkdir(validation_path)\n",
    "    for fname in lis_val:\n",
    "        src = os.path.join(path_, fname)\n",
    "        dst = os.path.join(validation_path, fname)\n",
    "        shutil.copyfile(src, dst)\n"
   ]
  },
  {
   "cell_type": "code",
   "execution_count": null,
   "metadata": {},
   "outputs": [],
   "source": []
  }
 ],
 "metadata": {
  "kernelspec": {
   "display_name": "Python 3",
   "language": "python",
   "name": "python3"
  },
  "language_info": {
   "codemirror_mode": {
    "name": "ipython",
    "version": 3
   },
   "file_extension": ".py",
   "mimetype": "text/x-python",
   "name": "python",
   "nbconvert_exporter": "python",
   "pygments_lexer": "ipython3",
   "version": "3.7.7"
  }
 },
 "nbformat": 4,
 "nbformat_minor": 4
}
