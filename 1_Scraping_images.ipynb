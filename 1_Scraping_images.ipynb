{
 "cells": [
  {
   "cell_type": "code",
   "execution_count": 1,
   "metadata": {},
   "outputs": [],
   "source": [
    "import numpy as np\n",
    "import pandas as pd"
   ]
  },
  {
   "cell_type": "code",
   "execution_count": 2,
   "metadata": {},
   "outputs": [],
   "source": [
    "from bs4 import BeautifulSoup\n",
    "import requests\n",
    "import time, os, io"
   ]
  },
  {
   "cell_type": "code",
   "execution_count": 3,
   "metadata": {},
   "outputs": [],
   "source": [
    "from selenium import webdriver\n",
    "from selenium.webdriver.common.keys import Keys"
   ]
  },
  {
   "cell_type": "code",
   "execution_count": 2,
   "metadata": {},
   "outputs": [],
   "source": [
    "from PIL import Image, ImageFilter\n",
    "import hashlib"
   ]
  },
  {
   "cell_type": "code",
   "execution_count": 5,
   "metadata": {},
   "outputs": [],
   "source": [
    "from selenium.common.exceptions import ElementClickInterceptedException, NoSuchElementException"
   ]
  },
  {
   "cell_type": "code",
   "execution_count": 6,
   "metadata": {},
   "outputs": [],
   "source": [
    "chromedriver = \"/Users/chromedriver\" # path to the chromedriver\n",
    "os.environ[\"webdriver.chrome.driver\"] = chromedriver"
   ]
  },
  {
   "cell_type": "code",
   "execution_count": null,
   "metadata": {},
   "outputs": [],
   "source": [
    "def find_photos(link, num_scrolls, type_clothing):\n",
    "    driver = webdriver.Chrome(chromedriver)\n",
    "    driver.get(link)\n",
    "    \n",
    "    time.sleep(2)\n",
    "    #to remove banner   \n",
    "    close_banner = driver.find_element_by_xpath('//button[contains(@class, \"banner-wrapper__close-icon\")]')\n",
    "    close_banner.click()\n",
    "    time.sleep(3)\n",
    "    #to remove pop-up ad to continue\n",
    "    #close_button = driver.find_element_by_xpath('//button[contains(@class, \"close ng-star-inserted\")]')\n",
    "    #close_button.click()\n",
    "    #time.sleep(2)\n",
    "    \n",
    "    for i in range(num_scrolls):\n",
    "        #Scroll\n",
    "        driver.execute_script(\n",
    "            \"window.scrollTo(0, document.documentElement.scrollHeight);\" #Alternatively, document.body.scrollHeight\n",
    "        )\n",
    "\n",
    "        #Wait for page to load\n",
    "        time.sleep(3)\n",
    "    \n",
    "    soup = BeautifulSoup(driver.page_source, 'html.parser')\n",
    "    products = soup.find_all('div', class_=\"product-cell u-text-center product-cell--desktop\")\n",
    "    \n",
    "    prod_dic = {}\n",
    "    for i,product in enumerate(products):\n",
    "        \n",
    "        #img link\n",
    "        link_img = product.find_all('link')[1].get('href')\n",
    "        #price\n",
    "        price = product.find('span', class_='product-cell__price').text.strip()\n",
    "        #product link\n",
    "        web_link = product.find_all('link')[0].get('href')\n",
    "        #product name\n",
    "        product_name = product.find(class_='product-cell__label u-block u-capitalize').text.strip()\n",
    "        #type\n",
    "        product_type = type_clothing\n",
    "        prod_dic[i] = [product_name, product_type, web_link, price, link_img]\n",
    "    \n",
    "    driver.quit()\n",
    "    \n",
    "    return prod_dic"
   ]
  },
  {
   "cell_type": "code",
   "execution_count": null,
   "metadata": {},
   "outputs": [],
   "source": [
    "def image_scrape(url,folder_path,type_product):\n",
    "    if url.startswith('/'):\n",
    "        return np.nan\n",
    "    else:\n",
    "        try:\n",
    "            image_content = requests.get(url).content\n",
    "\n",
    "        except Exception as e:\n",
    "            print(f\"ERROR - Could not download {url} - {e}\")\n",
    "\n",
    "        try:\n",
    "            image_file = io.BytesIO(image_content)\n",
    "            image = Image.open(image_file).convert('RGB')\n",
    "            img_name = type_product + '_' + hashlib.sha1(image_content).hexdigest()[:10] + '.jpg'\n",
    "            file_path = os.path.join(folder_path,img_name)\n",
    "            with open(file_path, 'wb') as f:\n",
    "                image.save(f, \"JPEG\", quality=85)\n",
    "            #print(f\"SUCCESS - saved {url} - as {file_path}\")\n",
    "        except Exception as e:\n",
    "            print(f\"ERROR - Could not save {url} - {e}\")\n",
    "        return img_name"
   ]
  },
  {
   "cell_type": "markdown",
   "metadata": {},
   "source": [
    "### **Scraping images by categories**"
   ]
  },
  {
   "cell_type": "markdown",
   "metadata": {},
   "source": [
    "**Dresses**"
   ]
  },
  {
   "cell_type": "code",
   "execution_count": 8,
   "metadata": {},
   "outputs": [],
   "source": [
    "url1 = 'https://www.shopstyle.com/browse/day-dresses?sort=Popular'"
   ]
  },
  {
   "cell_type": "code",
   "execution_count": 9,
   "metadata": {},
   "outputs": [],
   "source": [
    "dres_new = find_photos(url, 200, 'dress')"
   ]
  },
  {
   "cell_type": "code",
   "execution_count": 10,
   "metadata": {},
   "outputs": [],
   "source": [
    "df_dres_new = pd.DataFrame(dres_new).T"
   ]
  },
  {
   "cell_type": "code",
   "execution_count": 53,
   "metadata": {},
   "outputs": [],
   "source": [
    "df_dres_new['img'] = df_dres_new[4]"
   ]
  },
  {
   "cell_type": "code",
   "execution_count": 54,
   "metadata": {},
   "outputs": [],
   "source": [
    "folder_dres = '/Users/..../dresses' # path to where images will be saved"
   ]
  },
  {
   "cell_type": "code",
   "execution_count": 63,
   "metadata": {},
   "outputs": [],
   "source": [
    "df_dres_new['img'] = df_dres_new['img'].apply(image_scrape, folder_path=folder_dres, type_product='dress')"
   ]
  },
  {
   "cell_type": "code",
   "execution_count": 67,
   "metadata": {},
   "outputs": [],
   "source": [
    "df_dres_new.columns = ['product_name', 'product_type', 'web_link', 'price', 'link_img', 'img_name']"
   ]
  },
  {
   "cell_type": "code",
   "execution_count": 70,
   "metadata": {},
   "outputs": [],
   "source": [
    "#pickle!\n",
    "df_dres_new.to_pickle(\"./df_dres_new.pkl\")"
   ]
  },
  {
   "cell_type": "markdown",
   "metadata": {},
   "source": [
    "**Denim**"
   ]
  },
  {
   "cell_type": "code",
   "execution_count": 23,
   "metadata": {},
   "outputs": [],
   "source": [
    "url2 = 'https://www.shopstyle.com/browse/jeans?sort=Popular'"
   ]
  },
  {
   "cell_type": "code",
   "execution_count": 24,
   "metadata": {},
   "outputs": [],
   "source": [
    "denim = find_photos(url2, 200, 'denim')"
   ]
  },
  {
   "cell_type": "code",
   "execution_count": 25,
   "metadata": {},
   "outputs": [],
   "source": [
    "df_denim = pd.DataFrame(denim).T"
   ]
  },
  {
   "cell_type": "code",
   "execution_count": 26,
   "metadata": {},
   "outputs": [
    {
     "data": {
      "text/plain": [
       "(5960, 5)"
      ]
     },
     "execution_count": 26,
     "metadata": {},
     "output_type": "execute_result"
    }
   ],
   "source": [
    "df_denim.shape"
   ]
  },
  {
   "cell_type": "code",
   "execution_count": 27,
   "metadata": {},
   "outputs": [],
   "source": [
    "df_denim['img'] = df_denim[4]"
   ]
  },
  {
   "cell_type": "code",
   "execution_count": 40,
   "metadata": {},
   "outputs": [
    {
     "data": {
      "text/html": [
       "<div>\n",
       "<style scoped>\n",
       "    .dataframe tbody tr th:only-of-type {\n",
       "        vertical-align: middle;\n",
       "    }\n",
       "\n",
       "    .dataframe tbody tr th {\n",
       "        vertical-align: top;\n",
       "    }\n",
       "\n",
       "    .dataframe thead th {\n",
       "        text-align: right;\n",
       "    }\n",
       "</style>\n",
       "<table border=\"1\" class=\"dataframe\">\n",
       "  <thead>\n",
       "    <tr style=\"text-align: right;\">\n",
       "      <th></th>\n",
       "      <th>0</th>\n",
       "      <th>1</th>\n",
       "      <th>2</th>\n",
       "      <th>3</th>\n",
       "      <th>4</th>\n",
       "      <th>img</th>\n",
       "    </tr>\n",
       "  </thead>\n",
       "  <tbody>\n",
       "    <tr>\n",
       "      <th>0</th>\n",
       "      <td>Gloria Vanderbilt  Women's Comfort Curvy Bootc...</td>\n",
       "      <td>denim</td>\n",
       "      <td>https://www.shopstyle.com/g/women/gloria-vande...</td>\n",
       "      <td>$29.99</td>\n",
       "      <td>https://img.shopstyle-cdn.com/sim/cb/8d/cb8d59...</td>\n",
       "      <td>https://img.shopstyle-cdn.com/sim/cb/8d/cb8d59...</td>\n",
       "    </tr>\n",
       "  </tbody>\n",
       "</table>\n",
       "</div>"
      ],
      "text/plain": [
       "                                                   0      1  \\\n",
       "0  Gloria Vanderbilt  Women's Comfort Curvy Bootc...  denim   \n",
       "\n",
       "                                                   2       3  \\\n",
       "0  https://www.shopstyle.com/g/women/gloria-vande...  $29.99   \n",
       "\n",
       "                                                   4  \\\n",
       "0  https://img.shopstyle-cdn.com/sim/cb/8d/cb8d59...   \n",
       "\n",
       "                                                 img  \n",
       "0  https://img.shopstyle-cdn.com/sim/cb/8d/cb8d59...  "
      ]
     },
     "execution_count": 40,
     "metadata": {},
     "output_type": "execute_result"
    }
   ],
   "source": [
    "df_denim.head(1)"
   ]
  },
  {
   "cell_type": "code",
   "execution_count": 41,
   "metadata": {},
   "outputs": [],
   "source": [
    "folder_denim = '/Users/..../denim' "
   ]
  },
  {
   "cell_type": "code",
   "execution_count": 42,
   "metadata": {},
   "outputs": [],
   "source": [
    "df_denim['img'] = df_denim['img'].apply(image_scrape, folder_path=folder_denim, type_product='denim')"
   ]
  },
  {
   "cell_type": "code",
   "execution_count": 79,
   "metadata": {
    "scrolled": false
   },
   "outputs": [
    {
     "name": "stdout",
     "output_type": "stream",
     "text": [
      "<class 'pandas.core.frame.DataFrame'>\n",
      "Int64Index: 5960 entries, 0 to 5959\n",
      "Data columns (total 6 columns):\n",
      "product_name    5960 non-null object\n",
      "product_type    5960 non-null object\n",
      "web_link        5717 non-null object\n",
      "price           5960 non-null object\n",
      "link_img        5960 non-null object\n",
      "img_name        5960 non-null object\n",
      "dtypes: object(6)\n",
      "memory usage: 325.9+ KB\n"
     ]
    }
   ],
   "source": [
    "df_denim.info()"
   ]
  },
  {
   "cell_type": "code",
   "execution_count": 80,
   "metadata": {},
   "outputs": [],
   "source": [
    "df_denim.columns = ['product_name', 'product_type', 'web_link', 'price', 'link_img', 'img_name']"
   ]
  },
  {
   "cell_type": "markdown",
   "metadata": {},
   "source": [
    "**skirts**"
   ]
  },
  {
   "cell_type": "code",
   "execution_count": 71,
   "metadata": {},
   "outputs": [],
   "source": [
    "url3 = 'https://www.shopstyle.com/browse/mid-length-skirts?sort=Popular'"
   ]
  },
  {
   "cell_type": "code",
   "execution_count": 72,
   "metadata": {},
   "outputs": [],
   "source": [
    "skirts_new = find_photos(url6,200,'skirts')"
   ]
  },
  {
   "cell_type": "code",
   "execution_count": 73,
   "metadata": {},
   "outputs": [],
   "source": [
    "df_skirts_new = pd.DataFrame(skirts_new).T"
   ]
  },
  {
   "cell_type": "code",
   "execution_count": 74,
   "metadata": {},
   "outputs": [
    {
     "data": {
      "text/plain": [
       "(8040, 5)"
      ]
     },
     "execution_count": 74,
     "metadata": {},
     "output_type": "execute_result"
    }
   ],
   "source": [
    "df_skirts_new.shape"
   ]
  },
  {
   "cell_type": "code",
   "execution_count": 13,
   "metadata": {},
   "outputs": [],
   "source": [
    "folder_skirts = '/Users/..../skirts' "
   ]
  },
  {
   "cell_type": "code",
   "execution_count": 81,
   "metadata": {},
   "outputs": [],
   "source": [
    "df_skirts_new['img'] = df_skirts_new[4]"
   ]
  },
  {
   "cell_type": "code",
   "execution_count": 14,
   "metadata": {},
   "outputs": [],
   "source": [
    "df_skirts_new['img'] = df_skirts_new['img'].apply(image_scrape, folder_path=folder_skirts, type_product='skirts')"
   ]
  },
  {
   "cell_type": "code",
   "execution_count": 17,
   "metadata": {},
   "outputs": [],
   "source": [
    "df_skirts_new.columns = ['product_name', 'product_type', 'web_link', 'price', 'link_img', 'img_name']"
   ]
  },
  {
   "cell_type": "markdown",
   "metadata": {},
   "source": [
    "**shorts**"
   ]
  },
  {
   "cell_type": "code",
   "execution_count": 101,
   "metadata": {},
   "outputs": [],
   "source": [
    "url4 = 'https://www.shopstyle.com/browse/shorts'"
   ]
  },
  {
   "cell_type": "code",
   "execution_count": 102,
   "metadata": {},
   "outputs": [],
   "source": [
    "shorts = find_photos(url7,200,'shorts')"
   ]
  },
  {
   "cell_type": "code",
   "execution_count": 103,
   "metadata": {},
   "outputs": [],
   "source": [
    "df_shorts = pd.DataFrame(shorts).T"
   ]
  },
  {
   "cell_type": "code",
   "execution_count": 104,
   "metadata": {},
   "outputs": [],
   "source": [
    "folder_shorts = '/Users/..../shorts' "
   ]
  },
  {
   "cell_type": "code",
   "execution_count": 105,
   "metadata": {},
   "outputs": [],
   "source": [
    "df_shorts['img'] = df_shorts[4]"
   ]
  },
  {
   "cell_type": "code",
   "execution_count": 106,
   "metadata": {},
   "outputs": [
    {
     "data": {
      "text/plain": [
       "(6720, 6)"
      ]
     },
     "execution_count": 106,
     "metadata": {},
     "output_type": "execute_result"
    }
   ],
   "source": [
    "df_shorts.shape"
   ]
  },
  {
   "cell_type": "code",
   "execution_count": 108,
   "metadata": {},
   "outputs": [],
   "source": [
    "df_shorts['img'] = df_shorts['img'].apply(image_scrape, folder_path=folder_shorts, type_product='shorts')"
   ]
  },
  {
   "cell_type": "code",
   "execution_count": 109,
   "metadata": {
    "scrolled": false
   },
   "outputs": [
    {
     "name": "stdout",
     "output_type": "stream",
     "text": [
      "<class 'pandas.core.frame.DataFrame'>\n",
      "Int64Index: 6720 entries, 0 to 6719\n",
      "Data columns (total 6 columns):\n",
      "0      6720 non-null object\n",
      "1      6720 non-null object\n",
      "2      6227 non-null object\n",
      "3      6720 non-null object\n",
      "4      6720 non-null object\n",
      "img    6718 non-null object\n",
      "dtypes: object(6)\n",
      "memory usage: 367.5+ KB\n"
     ]
    }
   ],
   "source": [
    "df_shorts.info()"
   ]
  },
  {
   "cell_type": "code",
   "execution_count": 110,
   "metadata": {},
   "outputs": [
    {
     "data": {
      "text/html": [
       "<div>\n",
       "<style scoped>\n",
       "    .dataframe tbody tr th:only-of-type {\n",
       "        vertical-align: middle;\n",
       "    }\n",
       "\n",
       "    .dataframe tbody tr th {\n",
       "        vertical-align: top;\n",
       "    }\n",
       "\n",
       "    .dataframe thead th {\n",
       "        text-align: right;\n",
       "    }\n",
       "</style>\n",
       "<table border=\"1\" class=\"dataframe\">\n",
       "  <thead>\n",
       "    <tr style=\"text-align: right;\">\n",
       "      <th></th>\n",
       "      <th>0</th>\n",
       "      <th>1</th>\n",
       "      <th>2</th>\n",
       "      <th>3</th>\n",
       "      <th>4</th>\n",
       "      <th>img</th>\n",
       "    </tr>\n",
       "  </thead>\n",
       "  <tbody>\n",
       "    <tr>\n",
       "      <th>0</th>\n",
       "      <td>Ganni  Printed Cotton Poplin Shorts in Egret |...</td>\n",
       "      <td>shorts</td>\n",
       "      <td>https://www.shopstyle.com/g/women/ganni/printe...</td>\n",
       "      <td>$101</td>\n",
       "      <td>https://img.shopstyle-cdn.com/sim/ce/30/ce3080...</td>\n",
       "      <td>shorts_ac2b1d4994.jpg</td>\n",
       "    </tr>\n",
       "  </tbody>\n",
       "</table>\n",
       "</div>"
      ],
      "text/plain": [
       "                                                   0       1  \\\n",
       "0  Ganni  Printed Cotton Poplin Shorts in Egret |...  shorts   \n",
       "\n",
       "                                                   2     3  \\\n",
       "0  https://www.shopstyle.com/g/women/ganni/printe...  $101   \n",
       "\n",
       "                                                   4                    img  \n",
       "0  https://img.shopstyle-cdn.com/sim/ce/30/ce3080...  shorts_ac2b1d4994.jpg  "
      ]
     },
     "execution_count": 110,
     "metadata": {},
     "output_type": "execute_result"
    }
   ],
   "source": [
    "df_shorts.head(1)"
   ]
  },
  {
   "cell_type": "code",
   "execution_count": 111,
   "metadata": {},
   "outputs": [],
   "source": [
    "df_shorts.columns = ['product_name', 'product_type', 'web_link', 'price', 'link_img', 'img_name']"
   ]
  },
  {
   "cell_type": "markdown",
   "metadata": {},
   "source": [
    "**Tops**"
   ]
  },
  {
   "cell_type": "code",
   "execution_count": null,
   "metadata": {},
   "outputs": [],
   "source": [
    "url5 = 'https://www.shopstyle.com/browse/longsleeve-tops?sort=Popular'"
   ]
  },
  {
   "cell_type": "code",
   "execution_count": null,
   "metadata": {},
   "outputs": [],
   "source": [
    "tops = find_photos(url5,200, 'tops')"
   ]
  },
  {
   "cell_type": "code",
   "execution_count": null,
   "metadata": {},
   "outputs": [],
   "source": [
    "df_tops = pd.DataFrame(tops).T"
   ]
  },
  {
   "cell_type": "code",
   "execution_count": null,
   "metadata": {},
   "outputs": [],
   "source": [
    "folder_tops = '/Users/..../tops' "
   ]
  },
  {
   "cell_type": "code",
   "execution_count": null,
   "metadata": {},
   "outputs": [],
   "source": [
    "df_tops['img'] = df_tops[4]"
   ]
  },
  {
   "cell_type": "code",
   "execution_count": null,
   "metadata": {},
   "outputs": [],
   "source": [
    "df_tops['img'] = df_tops['img'].apply(image_scrape, folder_path=folder_tops, type_product='tops')"
   ]
  },
  {
   "cell_type": "code",
   "execution_count": null,
   "metadata": {},
   "outputs": [],
   "source": [
    "df_tops.columns = ['product_name', 'product_type', 'web_link', 'price', 'link_img', 'img_name']"
   ]
  },
  {
   "cell_type": "code",
   "execution_count": null,
   "metadata": {},
   "outputs": [],
   "source": []
  },
  {
   "cell_type": "code",
   "execution_count": null,
   "metadata": {},
   "outputs": [],
   "source": []
  },
  {
   "cell_type": "markdown",
   "metadata": {},
   "source": [
    "**Merging all DataFrames into one**"
   ]
  },
  {
   "cell_type": "code",
   "execution_count": 16,
   "metadata": {},
   "outputs": [],
   "source": [
    "# ALL Together\n",
    "df_all_new = pd.concat([df_dres_new, df_skirts_new, df_denim, df_tops, df_shorts])"
   ]
  },
  {
   "cell_type": "code",
   "execution_count": 21,
   "metadata": {},
   "outputs": [],
   "source": [
    "df_all_new.reset_index(inplace=True)"
   ]
  },
  {
   "cell_type": "code",
   "execution_count": 22,
   "metadata": {},
   "outputs": [],
   "source": [
    "df_all_new.drop('index', axis=1, inplace=True)"
   ]
  },
  {
   "cell_type": "code",
   "execution_count": 25,
   "metadata": {},
   "outputs": [],
   "source": [
    "#pickle!\n",
    "df_all_new.to_pickle(\"./ ... .pkl\")\n",
    "\n",
    "##df_all_new = pd.read_pickle(\"./ .. .pkl\")"
   ]
  },
  {
   "cell_type": "code",
   "execution_count": null,
   "metadata": {},
   "outputs": [],
   "source": []
  },
  {
   "cell_type": "code",
   "execution_count": null,
   "metadata": {},
   "outputs": [],
   "source": []
  },
  {
   "cell_type": "code",
   "execution_count": null,
   "metadata": {},
   "outputs": [],
   "source": []
  },
  {
   "cell_type": "markdown",
   "metadata": {},
   "source": [
    "**disclaimer**: _This project has gone through several iterations, the code above is a cleaned-up version. As a result references might vary from other notebooks_ <br>\n"
   ]
  },
  {
   "cell_type": "code",
   "execution_count": null,
   "metadata": {},
   "outputs": [],
   "source": []
  }
 ],
 "metadata": {
  "kernelspec": {
   "display_name": "Python 3",
   "language": "python",
   "name": "python3"
  },
  "language_info": {
   "codemirror_mode": {
    "name": "ipython",
    "version": 3
   },
   "file_extension": ".py",
   "mimetype": "text/x-python",
   "name": "python",
   "nbconvert_exporter": "python",
   "pygments_lexer": "ipython3",
   "version": "3.7.7"
  }
 },
 "nbformat": 4,
 "nbformat_minor": 4
}
