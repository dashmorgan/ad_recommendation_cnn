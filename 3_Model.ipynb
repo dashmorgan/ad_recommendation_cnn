{
 "cells": [
  {
   "cell_type": "code",
   "execution_count": null,
   "metadata": {},
   "outputs": [],
   "source": [
    "from google.colab import drive\n",
    "drive.mount('/content/drive/')"
   ]
  },
  {
   "cell_type": "code",
   "execution_count": null,
   "metadata": {
    "colab": {},
    "colab_type": "code",
    "id": "vsFrkwNc1T0l"
   },
   "outputs": [],
   "source": [
    "import os\n",
    "from pydrive.auth import GoogleAuth\n",
    "from pydrive.drive import GoogleDrive\n",
    "from google.colab import auth\n",
    "from oauth2client.client import GoogleCredentials"
   ]
  },
  {
   "cell_type": "code",
   "execution_count": null,
   "metadata": {
    "colab": {},
    "colab_type": "code",
    "id": "2X3IYd5c1hnO"
   },
   "outputs": [],
   "source": [
    "auth.authenticate_user()\n",
    "gauth = GoogleAuth()\n",
    "gauth.credentials = GoogleCredentials.get_application_default()\n",
    "drive = GoogleDrive(gauth)"
   ]
  },
  {
   "cell_type": "code",
   "execution_count": null,
   "metadata": {
    "colab": {},
    "colab_type": "code",
    "id": "dWgULg931kzU"
   },
   "outputs": [],
   "source": [
    "download = drive.CreateFile({'id': '1WZOtpm########FHjuO'})\n",
    "download.GetContentFile('new_data_5.zip')"
   ]
  },
  {
   "cell_type": "code",
   "execution_count": null,
   "metadata": {},
   "outputs": [],
   "source": [
    "!ls"
   ]
  },
  {
   "cell_type": "code",
   "execution_count": null,
   "metadata": {},
   "outputs": [],
   "source": [
    "!unzip new_data_5.zip"
   ]
  },
  {
   "cell_type": "code",
   "execution_count": null,
   "metadata": {
    "colab": {},
    "colab_type": "code",
    "id": "oNYBzuOB1-zn"
   },
   "outputs": [],
   "source": [
    "import pandas as pd\n",
    "import numpy as np\n",
    "import math\n",
    "\n",
    "from keras.applications import VGG16\n",
    "\n",
    "import os, shutil\n",
    "from keras.preprocessing.image import ImageDataGenerator\n",
    "\n",
    "from keras.layers import Dropout, Flatten, Dense, Activation\n",
    "\n",
    "import random, os\n",
    "from glob import glob\n",
    "from random import shuffle\n",
    "\n",
    "from keras.models import Model\n",
    "from keras.callbacks import ModelCheckpoint, EarlyStopping\n",
    "from keras import optimizers"
   ]
  },
  {
   "cell_type": "code",
   "execution_count": null,
   "metadata": {
    "colab": {
     "base_uri": "https://localhost:8080/",
     "height": 853
    },
    "colab_type": "code",
    "executionInfo": {
     "elapsed": 1862,
     "status": "ok",
     "timestamp": 1592236695758,
     "user": {
      "displayName": "Daria Morgan",
      "photoUrl": "",
      "userId": "14915174541406208126"
     },
     "user_tz": 240
    },
    "id": "e6Ltltia1-65",
    "outputId": "7e31aba9-70cc-4afd-b3d5-b54fe3221b43"
   },
   "outputs": [
    {
     "name": "stdout",
     "output_type": "stream",
     "text": [
      "Downloading data from https://github.com/fchollet/deep-learning-models/releases/download/v0.1/vgg16_weights_tf_dim_ordering_tf_kernels_notop.h5\n",
      "58892288/58889256 [==============================] - 1s 0us/step\n",
      "Model: \"vgg16\"\n",
      "_________________________________________________________________\n",
      "Layer (type)                 Output Shape              Param #   \n",
      "=================================================================\n",
      "input_1 (InputLayer)         (None, 224, 224, 3)       0         \n",
      "_________________________________________________________________\n",
      "block1_conv1 (Conv2D)        (None, 224, 224, 64)      1792      \n",
      "_________________________________________________________________\n",
      "block1_conv2 (Conv2D)        (None, 224, 224, 64)      36928     \n",
      "_________________________________________________________________\n",
      "block1_pool (MaxPooling2D)   (None, 112, 112, 64)      0         \n",
      "_________________________________________________________________\n",
      "block2_conv1 (Conv2D)        (None, 112, 112, 128)     73856     \n",
      "_________________________________________________________________\n",
      "block2_conv2 (Conv2D)        (None, 112, 112, 128)     147584    \n",
      "_________________________________________________________________\n",
      "block2_pool (MaxPooling2D)   (None, 56, 56, 128)       0         \n",
      "_________________________________________________________________\n",
      "block3_conv1 (Conv2D)        (None, 56, 56, 256)       295168    \n",
      "_________________________________________________________________\n",
      "block3_conv2 (Conv2D)        (None, 56, 56, 256)       590080    \n",
      "_________________________________________________________________\n",
      "block3_conv3 (Conv2D)        (None, 56, 56, 256)       590080    \n",
      "_________________________________________________________________\n",
      "block3_pool (MaxPooling2D)   (None, 28, 28, 256)       0         \n",
      "_________________________________________________________________\n",
      "block4_conv1 (Conv2D)        (None, 28, 28, 512)       1180160   \n",
      "_________________________________________________________________\n",
      "block4_conv2 (Conv2D)        (None, 28, 28, 512)       2359808   \n",
      "_________________________________________________________________\n",
      "block4_conv3 (Conv2D)        (None, 28, 28, 512)       2359808   \n",
      "_________________________________________________________________\n",
      "block4_pool (MaxPooling2D)   (None, 14, 14, 512)       0         \n",
      "_________________________________________________________________\n",
      "block5_conv1 (Conv2D)        (None, 14, 14, 512)       2359808   \n",
      "_________________________________________________________________\n",
      "block5_conv2 (Conv2D)        (None, 14, 14, 512)       2359808   \n",
      "_________________________________________________________________\n",
      "block5_conv3 (Conv2D)        (None, 14, 14, 512)       2359808   \n",
      "_________________________________________________________________\n",
      "block5_pool (MaxPooling2D)   (None, 7, 7, 512)         0         \n",
      "=================================================================\n",
      "Total params: 14,714,688\n",
      "Trainable params: 14,714,688\n",
      "Non-trainable params: 0\n",
      "_________________________________________________________________\n"
     ]
    }
   ],
   "source": [
    "conv_base = VGG16(weights='imagenet',\n",
    "                  include_top=False,\n",
    "                  input_shape=(224, 224, 3))\n",
    "\n",
    "conv_base.summary()"
   ]
  },
  {
   "cell_type": "code",
   "execution_count": null,
   "metadata": {
    "colab": {
     "base_uri": "https://localhost:8080/",
     "height": 969
    },
    "colab_type": "code",
    "executionInfo": {
     "elapsed": 565,
     "status": "ok",
     "timestamp": 1592236700344,
     "user": {
      "displayName": "Daria Morgan",
      "photoUrl": "",
      "userId": "14915174541406208126"
     },
     "user_tz": 240
    },
    "id": "sQFHY3hf1_CG",
    "outputId": "fe60ba30-78f0-4987-d165-99b65b58d026"
   },
   "outputs": [
    {
     "name": "stdout",
     "output_type": "stream",
     "text": [
      "Model: \"model_2\"\n",
      "_________________________________________________________________\n",
      "Layer (type)                 Output Shape              Param #   \n",
      "=================================================================\n",
      "input_1 (InputLayer)         (None, 224, 224, 3)       0         \n",
      "_________________________________________________________________\n",
      "block1_conv1 (Conv2D)        (None, 224, 224, 64)      1792      \n",
      "_________________________________________________________________\n",
      "block1_conv2 (Conv2D)        (None, 224, 224, 64)      36928     \n",
      "_________________________________________________________________\n",
      "block1_pool (MaxPooling2D)   (None, 112, 112, 64)      0         \n",
      "_________________________________________________________________\n",
      "block2_conv1 (Conv2D)        (None, 112, 112, 128)     73856     \n",
      "_________________________________________________________________\n",
      "block2_conv2 (Conv2D)        (None, 112, 112, 128)     147584    \n",
      "_________________________________________________________________\n",
      "block2_pool (MaxPooling2D)   (None, 56, 56, 128)       0         \n",
      "_________________________________________________________________\n",
      "block3_conv1 (Conv2D)        (None, 56, 56, 256)       295168    \n",
      "_________________________________________________________________\n",
      "block3_conv2 (Conv2D)        (None, 56, 56, 256)       590080    \n",
      "_________________________________________________________________\n",
      "block3_conv3 (Conv2D)        (None, 56, 56, 256)       590080    \n",
      "_________________________________________________________________\n",
      "block3_pool (MaxPooling2D)   (None, 28, 28, 256)       0         \n",
      "_________________________________________________________________\n",
      "block4_conv1 (Conv2D)        (None, 28, 28, 512)       1180160   \n",
      "_________________________________________________________________\n",
      "block4_conv2 (Conv2D)        (None, 28, 28, 512)       2359808   \n",
      "_________________________________________________________________\n",
      "block4_conv3 (Conv2D)        (None, 28, 28, 512)       2359808   \n",
      "_________________________________________________________________\n",
      "block4_pool (MaxPooling2D)   (None, 14, 14, 512)       0         \n",
      "_________________________________________________________________\n",
      "block5_conv1 (Conv2D)        (None, 14, 14, 512)       2359808   \n",
      "_________________________________________________________________\n",
      "block5_conv2 (Conv2D)        (None, 14, 14, 512)       2359808   \n",
      "_________________________________________________________________\n",
      "block5_conv3 (Conv2D)        (None, 14, 14, 512)       2359808   \n",
      "_________________________________________________________________\n",
      "block5_pool (MaxPooling2D)   (None, 7, 7, 512)         0         \n",
      "_________________________________________________________________\n",
      "flatten_1 (Flatten)          (None, 25088)             0         \n",
      "_________________________________________________________________\n",
      "dense_1 (Dense)              (None, 3500)              87811500  \n",
      "_________________________________________________________________\n",
      "dense_2 (Dense)              (None, 2500)              8752500   \n",
      "_________________________________________________________________\n",
      "dropout_1 (Dropout)          (None, 2500)              0         \n",
      "_________________________________________________________________\n",
      "dense_3 (Dense)              (None, 5)                 12505     \n",
      "=================================================================\n",
      "Total params: 111,291,193\n",
      "Trainable params: 96,576,505\n",
      "Non-trainable params: 14,714,688\n",
      "_________________________________________________________________\n"
     ]
    }
   ],
   "source": [
    "# Freeze convolutional layers\n",
    "for layer in conv_base.layers:\n",
    "    layer.trainable = False  \n",
    "\n",
    "# Establish new fully connected block  \n",
    "x = conv_base.output\n",
    "x = Flatten()(x) # flatten from convolution tensor output \n",
    "x = Dense(3500, activation='relu')(x)# number of layers and units are hyperparameters, as usual\n",
    "x = Dense(2500, activation='relu')(x) \n",
    "x = Dropout(0.5)(x)\n",
    "\n",
    "\n",
    "predictions = Dense(5, activation='softmax')(x) # should match # of classes predicted\n",
    "\n",
    "model_final = Model(inputs=conv_base.input, outputs=predictions)\n",
    "model_final.compile(loss=\"categorical_crossentropy\", optimizer='adam', metrics=[\"acc\"])\n",
    "model_final.summary()"
   ]
  },
  {
   "cell_type": "code",
   "execution_count": null,
   "metadata": {
    "colab": {},
    "colab_type": "code",
    "id": "6yqwc2E81_IP"
   },
   "outputs": [],
   "source": [
    "train_data_dir = 'new_data_5/train'  \n",
    "validation_data_dir = 'new_data_5/validation' "
   ]
  },
  {
   "cell_type": "code",
   "execution_count": null,
   "metadata": {
    "colab": {
     "base_uri": "https://localhost:8080/",
     "height": 51
    },
    "colab_type": "code",
    "executionInfo": {
     "elapsed": 2243,
     "status": "ok",
     "timestamp": 1592236821385,
     "user": {
      "displayName": "Daria Morgan",
      "photoUrl": "",
      "userId": "14915174541406208126"
     },
     "user_tz": 240
    },
    "id": "F_2jEjkg1_WO",
    "outputId": "266ffaf6-0392-4f1a-ce04-eaa5153feb50"
   },
   "outputs": [
    {
     "name": "stdout",
     "output_type": "stream",
     "text": [
      "Found 29290 images belonging to 5 classes.\n",
      "Found 7321 images belonging to 5 classes.\n"
     ]
    }
   ],
   "source": [
    "model_final.save_weights(\"/content/drive/My Drive/....../vgg16_8_new.h5\")\n",
    "\n",
    "train_datagen = ImageDataGenerator(\n",
    "      rescale=1./255,\n",
    "      width_shift_range=0.1,\n",
    "      height_shift_range=0.1,\n",
    "      shear_range=0.2,\n",
    "      zoom_range=0.2,\n",
    "      horizontal_flip=True,\n",
    "      fill_mode='nearest')\n",
    "\n",
    "# Note that the validation data should not be augmented!\n",
    "test_datagen = ImageDataGenerator(rescale=1./255)\n",
    "\n",
    "train_generator = train_datagen.flow_from_directory(\n",
    "        # This is the target directory\n",
    "        train_data_dir,\n",
    "        # All images will be resized to 150x150\n",
    "        target_size=(224, 224),\n",
    "        batch_size=10,\n",
    "        # Since we use binary_crossentropy loss, we need binary labels\n",
    "        class_mode='categorical')\n",
    "\n",
    "validation_generator = test_datagen.flow_from_directory(\n",
    "        validation_data_dir,\n",
    "        target_size=(224, 224),\n",
    "        batch_size=10,\n",
    "        class_mode='categorical')\n",
    "\n",
    "        \n",
    "        \n",
    "checkpoint = ModelCheckpoint(\"/content/drive/My Drive/......./vgg16_8_new.h5\", monitor='val_acc', verbose=1, save_best_only=True, save_weights_only=False, mode='auto', period=1)\n",
    "early = EarlyStopping(monitor='val_acc', min_delta=0, patience=6, verbose=1, mode='auto')\n"
   ]
  },
  {
   "cell_type": "code",
   "execution_count": null,
   "metadata": {
    "colab": {
     "base_uri": "https://localhost:8080/",
     "height": 1000
    },
    "colab_type": "code",
    "executionInfo": {
     "elapsed": 5561469,
     "status": "ok",
     "timestamp": 1592191617197,
     "user": {
      "displayName": "Daria Morgan",
      "photoUrl": "",
      "userId": "14915174541406208126"
     },
     "user_tz": 240
    },
    "id": "VQWs8Edg1_cZ",
    "outputId": "3bb3e176-7785-4878-e2e6-d65db2a71148"
   },
   "outputs": [
    {
     "name": "stdout",
     "output_type": "stream",
     "text": [
      "Epoch 1/20\n",
      "1952/1952 [==============================] - 316s 162ms/step - loss: 0.7268 - acc: 0.7664 - val_loss: 0.2725 - val_acc: 0.8705\n",
      "\n",
      "Epoch 00001: val_acc improved from -inf to 0.87049, saving model to /content/drive/My Drive/jupyter/new/new_5_categories/vgg16_8_new.h5\n",
      "Epoch 2/20\n",
      "1952/1952 [==============================] - 311s 160ms/step - loss: 0.4920 - acc: 0.8334 - val_loss: 0.1463 - val_acc: 0.8893\n",
      "\n",
      "Epoch 00002: val_acc improved from 0.87049 to 0.88935, saving model to /content/drive/My Drive/jupyter/new/new_5_categories/vgg16_8_new.h5\n",
      "Epoch 3/20\n",
      "1952/1952 [==============================] - 313s 161ms/step - loss: 0.4542 - acc: 0.8503 - val_loss: 1.2768 - val_acc: 0.8654\n",
      "\n",
      "Epoch 00003: val_acc did not improve from 0.88935\n",
      "Epoch 4/20\n",
      "1952/1952 [==============================] - 317s 162ms/step - loss: 0.4449 - acc: 0.8516 - val_loss: 0.3259 - val_acc: 0.8783\n",
      "\n",
      "Epoch 00004: val_acc did not improve from 0.88935\n",
      "Epoch 5/20\n",
      "1952/1952 [==============================] - 314s 161ms/step - loss: 0.4013 - acc: 0.8646 - val_loss: 0.2241 - val_acc: 0.8891\n",
      "\n",
      "Epoch 00005: val_acc did not improve from 0.88935\n",
      "Epoch 6/20\n",
      "1952/1952 [==============================] - 311s 159ms/step - loss: 0.4032 - acc: 0.8658 - val_loss: 0.3436 - val_acc: 0.8912\n",
      "\n",
      "Epoch 00006: val_acc improved from 0.88935 to 0.89119, saving model to /content/drive/My Drive/jupyter/new/new_5_categories/vgg16_8_new.h5\n",
      "Epoch 7/20\n",
      "1952/1952 [==============================] - 308s 158ms/step - loss: 0.3983 - acc: 0.8674 - val_loss: 0.0219 - val_acc: 0.9002\n",
      "\n",
      "Epoch 00007: val_acc improved from 0.89119 to 0.90023, saving model to /content/drive/My Drive/jupyter/new/new_5_categories/vgg16_8_new.h5\n",
      "Epoch 8/20\n",
      "1952/1952 [==============================] - 311s 160ms/step - loss: 0.3931 - acc: 0.8694 - val_loss: 0.3116 - val_acc: 0.9006\n",
      "\n",
      "Epoch 00008: val_acc improved from 0.90023 to 0.90064, saving model to /content/drive/My Drive/jupyter/new/new_5_categories/vgg16_8_new.h5\n",
      "Epoch 9/20\n",
      "1952/1952 [==============================] - 307s 157ms/step - loss: 0.3865 - acc: 0.8732 - val_loss: 0.7622 - val_acc: 0.9000\n",
      "\n",
      "Epoch 00009: val_acc did not improve from 0.90064\n",
      "Epoch 10/20\n",
      "1952/1952 [==============================] - 306s 157ms/step - loss: 0.3786 - acc: 0.8736 - val_loss: 0.1460 - val_acc: 0.8850\n",
      "\n",
      "Epoch 00010: val_acc did not improve from 0.90064\n",
      "Epoch 11/20\n",
      "1952/1952 [==============================] - 303s 155ms/step - loss: 0.3628 - acc: 0.8776 - val_loss: 0.0708 - val_acc: 0.8984\n",
      "\n",
      "Epoch 00011: val_acc did not improve from 0.90064\n",
      "Epoch 12/20\n",
      "1952/1952 [==============================] - 305s 156ms/step - loss: 0.3629 - acc: 0.8791 - val_loss: 0.5374 - val_acc: 0.9080\n",
      "\n",
      "Epoch 00012: val_acc improved from 0.90064 to 0.90799, saving model to /content/drive/My Drive/jupyter/new/new_5_categories/vgg16_8_new.h5\n",
      "Epoch 13/20\n",
      "1952/1952 [==============================] - 305s 156ms/step - loss: 0.3657 - acc: 0.8811 - val_loss: 0.6619 - val_acc: 0.8836\n",
      "\n",
      "Epoch 00013: val_acc did not improve from 0.90799\n",
      "Epoch 14/20\n",
      "1952/1952 [==============================] - 303s 155ms/step - loss: 0.3630 - acc: 0.8805 - val_loss: 0.5109 - val_acc: 0.9010\n",
      "\n",
      "Epoch 00014: val_acc did not improve from 0.90799\n",
      "Epoch 15/20\n",
      "1952/1952 [==============================] - 296s 152ms/step - loss: 0.3812 - acc: 0.8752 - val_loss: 0.9512 - val_acc: 0.9023\n",
      "\n",
      "Epoch 00015: val_acc did not improve from 0.90799\n",
      "Epoch 16/20\n",
      "1952/1952 [==============================] - 298s 153ms/step - loss: 0.3567 - acc: 0.8834 - val_loss: 0.9634 - val_acc: 0.8805\n",
      "\n",
      "Epoch 00016: val_acc did not improve from 0.90799\n",
      "Epoch 17/20\n",
      "1952/1952 [==============================] - 302s 154ms/step - loss: 0.3427 - acc: 0.8868 - val_loss: 0.0786 - val_acc: 0.8914\n",
      "\n",
      "Epoch 00017: val_acc did not improve from 0.90799\n",
      "Epoch 18/20\n",
      "1952/1952 [==============================] - 301s 154ms/step - loss: 0.3356 - acc: 0.8872 - val_loss: 0.1692 - val_acc: 0.9053\n",
      "\n",
      "Epoch 00018: val_acc did not improve from 0.90799\n",
      "Epoch 00018: early stopping\n"
     ]
    }
   ],
   "source": [
    "history = model_final.fit_generator(\n",
    "      train_generator,\n",
    "      steps_per_epoch=29290//15,\n",
    "      epochs=20,\n",
    "      validation_data=validation_generator,\n",
    "      validation_steps=7321//15,\n",
    "      verbose=1,\n",
    "      callbacks=[checkpoint,early])"
   ]
  },
  {
   "cell_type": "code",
   "execution_count": null,
   "metadata": {
    "colab": {},
    "colab_type": "code",
    "id": "mMeWnMbg1_iD"
   },
   "outputs": [],
   "source": [
    "import matplotlib.pyplot as plt\n",
    "import seaborn as sns\n",
    "sns.set_style('white')"
   ]
  },
  {
   "cell_type": "code",
   "execution_count": null,
   "metadata": {
    "colab": {
     "base_uri": "https://localhost:8080/",
     "height": 600
    },
    "colab_type": "code",
    "executionInfo": {
     "elapsed": 1609,
     "status": "ok",
     "timestamp": 1592191752211,
     "user": {
      "displayName": "Daria Morgan",
      "photoUrl": "",
      "userId": "14915174541406208126"
     },
     "user_tz": 240
    },
    "id": "OgoLgsKa1_nM",
    "outputId": "898ec4d6-665b-44b3-8a85-4bdaca81d915"
   },
   "outputs": [
    {
     "data": {
      "text/plain": [
       "<Figure size 720x576 with 0 Axes>"
      ]
     },
     "metadata": {
      "tags": []
     },
     "output_type": "display_data"
    },
    {
     "data": {
      "image/png": "[encoded data removed]",
      "text/plain": [
       "<Figure size 900x600 with 1 Axes>"
      ]
     },
     "metadata": {
      "tags": []
     },
     "output_type": "display_data"
    },
    {
     "data": {
      "text/plain": [
       "<Figure size 432x288 with 0 Axes>"
      ]
     },
     "metadata": {
      "tags": []
     },
     "output_type": "display_data"
    }
   ],
   "source": [
    "acc = history.history['acc']\n",
    "val_acc = history.history['val_acc']\n",
    "loss = history.history['loss']\n",
    "val_loss = history.history['val_loss']\n",
    "\n",
    "plt.figure(figsize=(10,8));\n",
    "plt.figure(dpi=150) \n",
    "\n",
    "epochs = range(len(acc))\n",
    "\n",
    "plt.plot(epochs, acc, 'b', label='Training acc')\n",
    "plt.plot(epochs, val_acc, 'b', label='Validation acc', color='purple')\n",
    "plt.title('Training and Validation accuracy scores', fontsize=12, fontweight='bold')\n",
    "plt.legend(loc='center right');\n",
    "\n",
    "plt.figure();"
   ]
  },
  {
   "cell_type": "code",
   "execution_count": null,
   "metadata": {
    "colab": {},
    "colab_type": "code",
    "id": "gSIrX14f4jAb"
   },
   "outputs": [],
   "source": []
  },
  {
   "cell_type": "code",
   "execution_count": null,
   "metadata": {
    "colab": {},
    "colab_type": "code",
    "id": "cLKnmG39y1VF"
   },
   "outputs": [],
   "source": []
  },
  {
   "cell_type": "code",
   "execution_count": null,
   "metadata": {
    "colab": {},
    "colab_type": "code",
    "id": "8IUpysXry4Mm"
   },
   "outputs": [],
   "source": []
  },
  {
   "cell_type": "code",
   "execution_count": null,
   "metadata": {
    "colab": {},
    "colab_type": "code",
    "id": "ZTW0wow5y4Vg"
   },
   "outputs": [],
   "source": []
  },
  {
   "cell_type": "code",
   "execution_count": null,
   "metadata": {
    "colab": {},
    "colab_type": "code",
    "id": "2CAPdZpZy4fL"
   },
   "outputs": [],
   "source": []
  },
  {
   "cell_type": "code",
   "execution_count": null,
   "metadata": {
    "colab": {},
    "colab_type": "code",
    "id": "81DfQc_uy4os"
   },
   "outputs": [],
   "source": []
  },
  {
   "cell_type": "code",
   "execution_count": null,
   "metadata": {
    "colab": {},
    "colab_type": "code",
    "id": "s7rx3NKgy2Km"
   },
   "outputs": [],
   "source": []
  },
  {
   "cell_type": "code",
   "execution_count": null,
   "metadata": {
    "colab": {},
    "colab_type": "code",
    "id": "gr9afGE6y2WN"
   },
   "outputs": [],
   "source": []
  }
 ],
 "metadata": {
  "accelerator": "GPU",
  "colab": {
   "authorship_tag": "ABX9TyNrNobzo6hUpC9Efv99j/wR",
   "machine_shape": "hm",
   "name": "Sun_5_categories.ipynb",
   "provenance": []
  },
  "kernelspec": {
   "display_name": "Python 3",
   "language": "python",
   "name": "python3"
  },
  "language_info": {
   "codemirror_mode": {
    "name": "ipython",
    "version": 3
   },
   "file_extension": ".py",
   "mimetype": "text/x-python",
   "name": "python",
   "nbconvert_exporter": "python",
   "pygments_lexer": "ipython3",
   "version": "3.7.7"
  }
 },
 "nbformat": 4,
 "nbformat_minor": 1
}
